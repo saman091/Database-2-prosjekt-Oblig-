{
 "cells": [
  {
   "cell_type": "code",
   "execution_count": 42,
   "id": "d50fe6f9-0e58-4a03-8d1d-fb208b73ef67",
   "metadata": {},
   "outputs": [],
   "source": [
    "import polars as pl\n",
    "\n",
    "df = pl.read_parquet(\"kjoretoyinfo_preppet.parquet\")"
   ]
  },
  {
   "cell_type": "code",
   "execution_count": 43,
   "id": "918704c0-3943-45ee-a542-7c9b06df0c9a",
   "metadata": {},
   "outputs": [],
   "source": [
    "df = df.with_columns([\n",
    "    pl.col(\"tekn_reg_f_g_n\").cast(str).str.strptime(pl.Date, \"%Y%m%d\").alias(\"tekn_reg_f_g_n_date\")\n",
    "])\n"
   ]
  },
  {
   "cell_type": "code",
   "execution_count": 44,
   "id": "4f231b71-7f42-42de-9176-65ca2715d1f1",
   "metadata": {},
   "outputs": [
    {
     "name": "stdout",
     "output_type": "stream",
     "text": [
      "Antall elbiler førstegangsregistrert i 2000: shape: (1, 10)\n",
      "┌────────────┬────────────┬────────────┬───────────┬───┬───────────┬───────────┬───────┬───────────┐\n",
      "│ tekn_reg_f ┆ tekn_reg_e ┆ tekn_aksle ┆ tekn_merk ┆ … ┆ tekn_nest ┆ tekn_kjtg ┆ elbil ┆ tekn_reg_ │\n",
      "│ _g_n       ┆ ier_dato   ┆ r_drift    ┆ e         ┆   ┆ e_pkk     ┆ rp        ┆ ---   ┆ f_g_n_dat │\n",
      "│ ---        ┆ ---        ┆ ---        ┆ ---       ┆   ┆ ---       ┆ ---       ┆ u32   ┆ e         │\n",
      "│ u32        ┆ u32        ┆ u32        ┆ u32       ┆   ┆ u32       ┆ u32       ┆       ┆ ---       │\n",
      "│            ┆            ┆            ┆           ┆   ┆           ┆           ┆       ┆ u32       │\n",
      "╞════════════╪════════════╪════════════╪═══════════╪═══╪═══════════╪═══════════╪═══════╪═══════════╡\n",
      "│ 126        ┆ 126        ┆ 126        ┆ 126       ┆ … ┆ 50        ┆ 126       ┆ 126   ┆ 126       │\n",
      "└────────────┴────────────┴────────────┴───────────┴───┴───────────┴───────────┴───────┴───────────┘\n"
     ]
    }
   ],
   "source": [
    " elbiler_2000 = df.filter(\n",
    "    (pl.col(\"tekn_drivstoff\") == \"5\") & \n",
    "    (pl.col(\"tekn_reg_f_g_n_date\").dt.year() == 2000)\n",
    ").count()\n",
    "\n",
    "print(f\"Antall elbiler førstegangsregistrert i 2000: {elbiler_2000}\")\n"
   ]
  },
  {
   "cell_type": "code",
   "execution_count": 45,
   "id": "cc8cd825-1b79-4157-ac8b-a9f5afc409f5",
   "metadata": {},
   "outputs": [
    {
     "name": "stdout",
     "output_type": "stream",
     "text": [
      "Antall elbiler førstegangsregistrert i 2000: 126\n"
     ]
    }
   ],
   "source": [
    "elbiler_2000 = df.filter(\n",
    "    (pl.col(\"tekn_drivstoff\") == \"5\") &\n",
    "    (pl.col(\"tekn_reg_f_g_n_date\").dt.year() == 2000)\n",
    ").height\n",
    "\n",
    "print(f\"Antall elbiler førstegangsregistrert i 2000: {elbiler_2000}\")\n",
    "\n"
   ]
  },
  {
   "cell_type": "code",
   "execution_count": 64,
   "id": "be827844-dc60-48b5-a53e-599f28dba96f",
   "metadata": {},
   "outputs": [
    {
     "name": "stdout",
     "output_type": "stream",
     "text": [
      "shape: (45, 1)\n",
      "┌─────────────┐\n",
      "│ tekn_kjtgrp │\n",
      "│ ---         │\n",
      "│ i64         │\n",
      "╞═════════════╡\n",
      "│ 101         │\n",
      "│ 106         │\n",
      "│ 107         │\n",
      "│ 201         │\n",
      "│ 210         │\n",
      "│ …           │\n",
      "│ 601         │\n",
      "│ 610         │\n",
      "│ 620         │\n",
      "│ 621         │\n",
      "│ 630         │\n",
      "└─────────────┘\n"
     ]
    }
   ],
   "source": [
    "unique_kjtgrp = df.select(pl.col(\"tekn_kjtgrp\")).unique().sort(\"tekn_kjtgrp\")\n",
    "print(unique_kjtgrp)\n"
   ]
  },
  {
   "cell_type": "code",
   "execution_count": 65,
   "id": "1acf5760-5b0c-4f1a-8c7b-0428335a9a3c",
   "metadata": {},
   "outputs": [],
   "source": [
    "df.write_csv(\"kjoretoyinfo_preppet.csv\")\n"
   ]
  },
  {
   "cell_type": "code",
   "execution_count": 69,
   "id": "063df0f3-d34b-4f2e-ba13-5882ebcb2d52",
   "metadata": {},
   "outputs": [],
   "source": [
    "totalt_kjoretoy_2000 = df.filter(pl.col(\"tekn_reg_f_g_n_date\").dt.year() == 2000).height\n",
    "\n"
   ]
  },
  {
   "cell_type": "code",
   "execution_count": 70,
   "id": "cdf493ae-24e7-4a61-8292-7dde783aabbb",
   "metadata": {},
   "outputs": [],
   "source": [
    "elbiler_2000 = df.filter(\n",
    "    (pl.col(\"tekn_drivstoff\") == \"5\") &  \n",
    "    (pl.col(\"tekn_reg_f_g_n_date\").dt.year() == 2000)\n",
    ").height\n"
   ]
  },
  {
   "cell_type": "code",
   "execution_count": 71,
   "id": "993a3053-85bb-459b-87f9-b2f57dc31d61",
   "metadata": {},
   "outputs": [
    {
     "name": "stdout",
     "output_type": "stream",
     "text": [
      "Prosentandel av elbiler i 2000: 0.13%\n"
     ]
    }
   ],
   "source": [
    "prosent_elbiler_2000 = (elbiler_2000 / totalt_kjoretoy_2000) * 100\n",
    "\n",
    "print(f\"Prosentandel av elbiler i 2000: {prosent_elbiler_2000:.2f}%\")\n"
   ]
  },
  {
   "cell_type": "code",
   "execution_count": 82,
   "id": "fc62e0e8-7a46-4ce1-bb99-c1225e14b4f2",
   "metadata": {},
   "outputs": [
    {
     "name": "stdout",
     "output_type": "stream",
     "text": [
      "Den mest populære bilmodellen i 2000 var:\n",
      "shape: (1, 2)\n",
      "┌─────────────┬────────┐\n",
      "│ tekn_modell ┆ antall │\n",
      "│ ---         ┆ ---    │\n",
      "│ str         ┆ u32    │\n",
      "╞═════════════╪════════╡\n",
      "│ GOLF        ┆ 3208   │\n",
      "└─────────────┴────────┘\n"
     ]
    }
   ],
   "source": [
    "mest_populaer_modell_2000 = populaere_modeller_2000.sort(by=\"antall\").reverse().head(1)\n",
    "\n",
    "print(\"Den mest populære bilmodellen i 2000 var:\")\n",
    "print(mest_populaer_modell_2000)\n"
   ]
  },
  {
   "cell_type": "code",
   "execution_count": 84,
   "id": "223c79f1-e54a-4d48-9088-85d7aafbbdd5",
   "metadata": {},
   "outputs": [
    {
     "name": "stderr",
     "output_type": "stream",
     "text": [
      "/var/folders/r3/c464yxgd5f96cyq5r3t1djg40000gn/T/ipykernel_32756/3071353014.py:2: DeprecationWarning: `pl.count()` is deprecated. Please use `pl.len()` instead.\n",
      "  registreringer_per_maaned = df.with_columns(pl.col(\"tekn_reg_f_g_n_date\").dt.month().alias(\"maaned\")).group_by(\"maaned\").agg(pl.count().alias(\"antall_registreringer\"))\n"
     ]
    },
    {
     "ename": "TypeError",
     "evalue": "DataFrame.sort() got an unexpected keyword argument 'reverse'",
     "output_type": "error",
     "traceback": [
      "\u001b[0;31m---------------------------------------------------------------------------\u001b[0m",
      "\u001b[0;31mTypeError\u001b[0m                                 Traceback (most recent call last)",
      "Cell \u001b[0;32mIn[84], line 5\u001b[0m\n\u001b[1;32m      2\u001b[0m registreringer_per_maaned \u001b[38;5;241m=\u001b[39m df\u001b[38;5;241m.\u001b[39mwith_columns(pl\u001b[38;5;241m.\u001b[39mcol(\u001b[38;5;124m\"\u001b[39m\u001b[38;5;124mtekn_reg_f_g_n_date\u001b[39m\u001b[38;5;124m\"\u001b[39m)\u001b[38;5;241m.\u001b[39mdt\u001b[38;5;241m.\u001b[39mmonth()\u001b[38;5;241m.\u001b[39malias(\u001b[38;5;124m\"\u001b[39m\u001b[38;5;124mmaaned\u001b[39m\u001b[38;5;124m\"\u001b[39m))\u001b[38;5;241m.\u001b[39mgroup_by(\u001b[38;5;124m\"\u001b[39m\u001b[38;5;124mmaaned\u001b[39m\u001b[38;5;124m\"\u001b[39m)\u001b[38;5;241m.\u001b[39magg(pl\u001b[38;5;241m.\u001b[39mcount()\u001b[38;5;241m.\u001b[39malias(\u001b[38;5;124m\"\u001b[39m\u001b[38;5;124mantall_registreringer\u001b[39m\u001b[38;5;124m\"\u001b[39m))\n\u001b[1;32m      4\u001b[0m \u001b[38;5;66;03m# Sortere resultatene for å finne måneden med flest registreringer\u001b[39;00m\n\u001b[0;32m----> 5\u001b[0m mest_registreringer \u001b[38;5;241m=\u001b[39m \u001b[43mregistreringer_per_maaned\u001b[49m\u001b[38;5;241;43m.\u001b[39;49m\u001b[43msort\u001b[49m\u001b[43m(\u001b[49m\u001b[43mby\u001b[49m\u001b[38;5;241;43m=\u001b[39;49m\u001b[38;5;124;43m\"\u001b[39;49m\u001b[38;5;124;43mantall_registreringer\u001b[39;49m\u001b[38;5;124;43m\"\u001b[39;49m\u001b[43m,\u001b[49m\u001b[43m \u001b[49m\u001b[43mreverse\u001b[49m\u001b[38;5;241;43m=\u001b[39;49m\u001b[38;5;28;43;01mTrue\u001b[39;49;00m\u001b[43m)\u001b[49m\u001b[38;5;241m.\u001b[39mhead(\u001b[38;5;241m1\u001b[39m)\n\u001b[1;32m      7\u001b[0m \u001b[38;5;28mprint\u001b[39m(\u001b[38;5;124m\"\u001b[39m\u001b[38;5;124mMåneden med flest førstegangsregistreringer av biler:\u001b[39m\u001b[38;5;124m\"\u001b[39m)\n\u001b[1;32m      8\u001b[0m \u001b[38;5;28mprint\u001b[39m(mest_registreringer)\n",
      "\u001b[0;31mTypeError\u001b[0m: DataFrame.sort() got an unexpected keyword argument 'reverse'"
     ]
    }
   ],
   "source": [
    "# Gruppere kjøretøyregistreringene etter måned og telle antall i hver måned\n",
    "registreringer_per_maaned = df.with_columns(pl.col(\"tekn_reg_f_g_n_date\").dt.month().alias(\"maaned\")).group_by(\"maaned\").agg(pl.count().alias(\"antall_registreringer\"))\n",
    "\n",
    "# Sortere resultatene for å finne måneden med flest registreringer\n",
    "mest_registreringer = registreringer_per_maaned.sort(by=\"antall_registreringer\", reverse=True).head(1)\n",
    "\n",
    "print(\"Måneden med flest førstegangsregistreringer av biler:\")\n",
    "print(mest_registreringer)\n"
   ]
  },
  {
   "cell_type": "code",
   "execution_count": 86,
   "id": "41086aaa-4f94-4493-9cf5-f50ac99ffa63",
   "metadata": {},
   "outputs": [
    {
     "ename": "TypeError",
     "evalue": "Expr.sort() got an unexpected keyword argument 'ascending'",
     "output_type": "error",
     "traceback": [
      "\u001b[0;31m---------------------------------------------------------------------------\u001b[0m",
      "\u001b[0;31mTypeError\u001b[0m                                 Traceback (most recent call last)",
      "Cell \u001b[0;32mIn[86], line 11\u001b[0m\n\u001b[1;32m      3\u001b[0m registreringer_per_maaned \u001b[38;5;241m=\u001b[39m df\u001b[38;5;241m.\u001b[39mwith_columns(\n\u001b[1;32m      4\u001b[0m     pl\u001b[38;5;241m.\u001b[39mcol(\u001b[38;5;124m\"\u001b[39m\u001b[38;5;124mtekn_reg_f_g_n_date\u001b[39m\u001b[38;5;124m\"\u001b[39m)\u001b[38;5;241m.\u001b[39mdt\u001b[38;5;241m.\u001b[39mmonth()\u001b[38;5;241m.\u001b[39malias(\u001b[38;5;124m\"\u001b[39m\u001b[38;5;124mmaaned\u001b[39m\u001b[38;5;124m\"\u001b[39m)\n\u001b[1;32m      5\u001b[0m )\u001b[38;5;241m.\u001b[39mgroup_by(\u001b[38;5;124m\"\u001b[39m\u001b[38;5;124mmaaned\u001b[39m\u001b[38;5;124m\"\u001b[39m)\u001b[38;5;241m.\u001b[39magg(\n\u001b[1;32m      6\u001b[0m     pl\u001b[38;5;241m.\u001b[39mlen()\u001b[38;5;241m.\u001b[39malias(\u001b[38;5;124m\"\u001b[39m\u001b[38;5;124mantall_registreringer\u001b[39m\u001b[38;5;124m\"\u001b[39m)  \u001b[38;5;66;03m# Oppdatert fra pl.count() til pl.len()\u001b[39;00m\n\u001b[1;32m      7\u001b[0m )\n\u001b[1;32m      9\u001b[0m \u001b[38;5;66;03m# For å sortere i synkende rekkefølge uten å bruke reverse=True, som forårsaket TypeError\u001b[39;00m\n\u001b[1;32m     10\u001b[0m mest_registreringer \u001b[38;5;241m=\u001b[39m registreringer_per_maaned\u001b[38;5;241m.\u001b[39msort(\n\u001b[0;32m---> 11\u001b[0m     by\u001b[38;5;241m=\u001b[39m\u001b[43mpl\u001b[49m\u001b[38;5;241;43m.\u001b[39;49m\u001b[43mcol\u001b[49m\u001b[43m(\u001b[49m\u001b[38;5;124;43m\"\u001b[39;49m\u001b[38;5;124;43mantall_registreringer\u001b[39;49m\u001b[38;5;124;43m\"\u001b[39;49m\u001b[43m)\u001b[49m\u001b[38;5;241;43m.\u001b[39;49m\u001b[43msort\u001b[49m\u001b[43m(\u001b[49m\u001b[43mascending\u001b[49m\u001b[38;5;241;43m=\u001b[39;49m\u001b[38;5;28;43;01mFalse\u001b[39;49;00m\u001b[43m)\u001b[49m\n\u001b[1;32m     12\u001b[0m )\u001b[38;5;241m.\u001b[39mhead(\u001b[38;5;241m1\u001b[39m)\n\u001b[1;32m     14\u001b[0m \u001b[38;5;28mprint\u001b[39m(\u001b[38;5;124m\"\u001b[39m\u001b[38;5;124mMåneden med flest førstegangsregistreringer av biler:\u001b[39m\u001b[38;5;124m\"\u001b[39m)\n\u001b[1;32m     15\u001b[0m \u001b[38;5;28mprint\u001b[39m(mest_registreringer)\n",
      "\u001b[0;31mTypeError\u001b[0m: Expr.sort() got an unexpected keyword argument 'ascending'"
     ]
    }
   ],
   "source": [
    "# Grupperer kjøretøyregistreringene etter måned og teller antall i hver måned\n",
    "# Korreksjon for deprecation warning ved å bruke pl.len() og fjerning av reverse=True i sort()-metoden\n",
    "registreringer_per_maaned = df.with_columns(\n",
    "    pl.col(\"tekn_reg_f_g_n_date\").dt.month().alias(\"maaned\")\n",
    ").group_by(\"maaned\").agg(\n",
    "    pl.len().alias(\"antall_registreringer\")  # Oppdatert fra pl.count() til pl.len()\n",
    ")\n",
    "\n",
    "# For å sortere i synkende rekkefølge uten å bruke reverse=True, som forårsaket TypeError\n",
    "mest_registreringer = registreringer_per_maaned.sort(\n",
    "    by=pl.col(\"antall_registreringer\").sort(ascending=False)\n",
    ").head(1)\n",
    "\n",
    "print(\"Måneden med flest førstegangsregistreringer av biler:\")\n",
    "print(mest_registreringer)\n"
   ]
  },
  {
   "cell_type": "code",
   "execution_count": 90,
   "id": "3e93e9c1-be1d-41ea-b8f2-2ccc12fa6a71",
   "metadata": {},
   "outputs": [
    {
     "name": "stdout",
     "output_type": "stream",
     "text": [
      "Måneden med flest førstegangsregistreringer av biler:\n",
      "shape: (1, 2)\n",
      "┌────────┬───────────────────────┐\n",
      "│ maaned ┆ antall_registreringer │\n",
      "│ ---    ┆ ---                   │\n",
      "│ i8     ┆ u32                   │\n",
      "╞════════╪═══════════════════════╡\n",
      "│ 6      ┆ 248455                │\n",
      "└────────┴───────────────────────┘\n"
     ]
    }
   ],
   "source": [
    "registreringer_per_maaned = df.with_columns(\n",
    "    pl.col(\"tekn_reg_f_g_n_date\").dt.month().alias(\"maaned\")\n",
    ").group_by(\"maaned\").agg(\n",
    "    pl.len().alias(\"antall_registreringer\")  # Bruker pl.len() for telling\n",
    ")\n",
    "\n",
    "\n",
    "mest_registreringer = registreringer_per_maaned.sort(\n",
    "    by=\"antall_registreringer\", descending=True  \n",
    ").head(1)\n",
    "\n",
    "print(\"Måneden med flest førstegangsregistreringer av biler:\")\n",
    "print(mest_registreringer)\n"
   ]
  },
  {
   "cell_type": "code",
   "execution_count": 93,
   "id": "b4dda2f6-5c6e-437f-b3cd-96a65aa4d63e",
   "metadata": {},
   "outputs": [
    {
     "name": "stdout",
     "output_type": "stream",
     "text": [
      "De fem mest populære bilmerkene i 2000 var:\n",
      "shape: (5, 2)\n",
      "┌────────────┬────────┐\n",
      "│ tekn_merke ┆ antall │\n",
      "│ ---        ┆ ---    │\n",
      "│ i64        ┆ u32    │\n",
      "╞════════════╪════════╡\n",
      "│ 5750       ┆ 10729  │\n",
      "│ 5480       ┆ 9562   │\n",
      "│ 3900       ┆ 7195   │\n",
      "│ 4350       ┆ 5329   │\n",
      "│ 1230       ┆ 4751   │\n",
      "└────────────┴────────┘\n"
     ]
    }
   ],
   "source": [
    "# Filtrer datasettet for kjøretøy førstegangsregistrert i 2000\n",
    "kjoretoy_2000 = df.filter(pl.col(\"tekn_reg_f_g_n_date\").dt.year() == 2000)\n",
    "\n",
    "mest_populaere_merker_2000 = (\n",
    "    kjoretoy_2000\n",
    "    .group_by(\"tekn_merke\")\n",
    "    .agg(pl.len().alias(\"antall\"))\n",
    "    .sort(by=\"antall\", descending=True)\n",
    "    .head(5)\n",
    ")\n",
    "\n",
    "print(\"De fem mest populære bilmerkene i 2000 var:\")\n",
    "print(mest_populaere_merker_2000)\n"
   ]
  },
  {
   "cell_type": "code",
   "execution_count": 95,
   "id": "c3981001-fb09-448c-b568-18065e5fb24a",
   "metadata": {},
   "outputs": [
    {
     "name": "stdout",
     "output_type": "stream",
     "text": [
      "De fem mest populære bilmerkene i 2000 var:\n",
      "shape: (5, 2)\n",
      "┌─────────────┬────────┐\n",
      "│ tekn_modell ┆ antall │\n",
      "│ ---         ┆ ---    │\n",
      "│ str         ┆ u32    │\n",
      "╞═════════════╪════════╡\n",
      "│ GOLF        ┆ 3208   │\n",
      "│ -           ┆ 2499   │\n",
      "│ PASSAT      ┆ 2342   │\n",
      "│ FOCUS       ┆ 1922   │\n",
      "│ YARIS       ┆ 1863   │\n",
      "└─────────────┴────────┘\n"
     ]
    }
   ],
   "source": [
    "# Filtrer datasettet for kjøretøy førstegangsregistrert i 2000\n",
    "kjoretoy_2000 = df.filter(pl.col(\"tekn_reg_f_g_n_date\").dt.year() == 2000)\n",
    "\n",
    "mest_populaere_merker_2000 = (\n",
    "    kjoretoy_2000\n",
    "    .group_by(\"tekn_modell\")\n",
    "    .agg(pl.len().alias(\"antall\"))\n",
    "    .sort(by=\"antall\", descending=True)\n",
    "    .head(5)\n",
    ")\n",
    "\n",
    "print(\"De fem mest populære bilmerkene i 2000 var:\")\n",
    "print(mest_populaere_merker_2000)"
   ]
  },
  {
   "cell_type": "code",
   "execution_count": null,
   "id": "2354d944-f6e1-42d5-99e8-da28b6c1c48f",
   "metadata": {},
   "outputs": [],
   "source": []
  }
 ],
 "metadata": {
  "kernelspec": {
   "display_name": "Python 3 (ipykernel)",
   "language": "python",
   "name": "python3"
  },
  "language_info": {
   "codemirror_mode": {
    "name": "ipython",
    "version": 3
   },
   "file_extension": ".py",
   "mimetype": "text/x-python",
   "name": "python",
   "nbconvert_exporter": "python",
   "pygments_lexer": "ipython3",
   "version": "3.12.1"
  }
 },
 "nbformat": 4,
 "nbformat_minor": 5
}
