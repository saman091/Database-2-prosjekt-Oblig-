{
 "cells": [
  {
   "cell_type": "code",
   "execution_count": 35,
   "id": "d50fe6f9-0e58-4a03-8d1d-fb208b73ef67",
   "metadata": {},
   "outputs": [],
   "source": [
    "import polars as pl\n",
    "\n",
    "df = pl.read_parquet(\"kjoretoyinfo_preppet.parquet\")"
   ]
  },
  {
   "cell_type": "code",
   "execution_count": 36,
   "id": "918704c0-3943-45ee-a542-7c9b06df0c9a",
   "metadata": {},
   "outputs": [],
   "source": [
    "df = df.with_columns([\n",
    "    pl.col(\"tekn_reg_f_g_n\").cast(str).str.strptime(pl.Date, \"%Y%m%d\").alias(\"tekn_reg_f_g_n_date\")\n",
    "])\n"
   ]
  },
  {
   "cell_type": "code",
   "execution_count": 37,
   "id": "4f231b71-7f42-42de-9176-65ca2715d1f1",
   "metadata": {},
   "outputs": [
    {
     "name": "stdout",
     "output_type": "stream",
     "text": [
      "Antall elbiler førstegangsregistrert i 2000: shape: (1, 10)\n",
      "┌────────────┬────────────┬────────────┬───────────┬───┬───────────┬───────────┬───────┬───────────┐\n",
      "│ tekn_reg_f ┆ tekn_reg_e ┆ tekn_aksle ┆ tekn_merk ┆ … ┆ tekn_nest ┆ tekn_kjtg ┆ elbil ┆ tekn_reg_ │\n",
      "│ _g_n       ┆ ier_dato   ┆ r_drift    ┆ e         ┆   ┆ e_pkk     ┆ rp        ┆ ---   ┆ f_g_n_dat │\n",
      "│ ---        ┆ ---        ┆ ---        ┆ ---       ┆   ┆ ---       ┆ ---       ┆ u32   ┆ e         │\n",
      "│ u32        ┆ u32        ┆ u32        ┆ u32       ┆   ┆ u32       ┆ u32       ┆       ┆ ---       │\n",
      "│            ┆            ┆            ┆           ┆   ┆           ┆           ┆       ┆ u32       │\n",
      "╞════════════╪════════════╪════════════╪═══════════╪═══╪═══════════╪═══════════╪═══════╪═══════════╡\n",
      "│ 126        ┆ 126        ┆ 126        ┆ 126       ┆ … ┆ 50        ┆ 126       ┆ 126   ┆ 126       │\n",
      "└────────────┴────────────┴────────────┴───────────┴───┴───────────┴───────────┴───────┴───────────┘\n"
     ]
    }
   ],
   "source": [
    " elbiler_2000 = df.filter(\n",
    "    (pl.col(\"tekn_drivstoff\") == \"5\") & \n",
    "    (pl.col(\"tekn_reg_f_g_n_date\").dt.year() == 2000)\n",
    ").count()\n",
    "\n",
    "print(f\"Antall elbiler førstegangsregistrert i 2000: {elbiler_2000}\")\n"
   ]
  },
  {
   "cell_type": "code",
   "execution_count": 38,
   "id": "cc8cd825-1b79-4157-ac8b-a9f5afc409f5",
   "metadata": {},
   "outputs": [
    {
     "name": "stdout",
     "output_type": "stream",
     "text": [
      "Antall elbiler førstegangsregistrert i 2000: 126\n"
     ]
    }
   ],
   "source": [
    "elbiler_2000 = df.filter(\n",
    "    (pl.col(\"tekn_drivstoff\") == \"5\") &\n",
    "    (pl.col(\"tekn_reg_f_g_n_date\").dt.year() == 2000)\n",
    ").height\n",
    "\n",
    "print(f\"Antall elbiler førstegangsregistrert i 2000: {elbiler_2000}\")\n",
    "\n"
   ]
  },
  {
   "cell_type": "code",
   "execution_count": 39,
   "id": "be827844-dc60-48b5-a53e-599f28dba96f",
   "metadata": {},
   "outputs": [
    {
     "name": "stdout",
     "output_type": "stream",
     "text": [
      "shape: (45, 1)\n",
      "┌─────────────┐\n",
      "│ tekn_kjtgrp │\n",
      "│ ---         │\n",
      "│ i64         │\n",
      "╞═════════════╡\n",
      "│ 101         │\n",
      "│ 106         │\n",
      "│ 107         │\n",
      "│ 201         │\n",
      "│ 210         │\n",
      "│ …           │\n",
      "│ 601         │\n",
      "│ 610         │\n",
      "│ 620         │\n",
      "│ 621         │\n",
      "│ 630         │\n",
      "└─────────────┘\n"
     ]
    }
   ],
   "source": [
    "unique_kjtgrp = df.select(pl.col(\"tekn_kjtgrp\")).unique().sort(\"tekn_kjtgrp\")\n",
    "print(unique_kjtgrp)\n"
   ]
  },
  {
   "cell_type": "code",
   "execution_count": 40,
   "id": "1acf5760-5b0c-4f1a-8c7b-0428335a9a3c",
   "metadata": {},
   "outputs": [],
   "source": [
    "df.write_csv(\"kjoretoyinfo_preppet.csv\")\n"
   ]
  },
  {
   "cell_type": "code",
   "execution_count": 41,
   "id": "063df0f3-d34b-4f2e-ba13-5882ebcb2d52",
   "metadata": {},
   "outputs": [],
   "source": [
    "totalt_kjoretoy_2000 = df.filter(pl.col(\"tekn_reg_f_g_n_date\").dt.year() == 2000).height\n",
    "\n"
   ]
  },
  {
   "cell_type": "code",
   "execution_count": 42,
   "id": "cdf493ae-24e7-4a61-8292-7dde783aabbb",
   "metadata": {},
   "outputs": [],
   "source": [
    "elbiler_2000 = df.filter(\n",
    "    (pl.col(\"tekn_drivstoff\") == \"5\") &  \n",
    "    (pl.col(\"tekn_reg_f_g_n_date\").dt.year() == 2000)\n",
    ").height\n"
   ]
  },
  {
   "cell_type": "code",
   "execution_count": 43,
   "id": "fc62e0e8-7a46-4ce1-bb99-c1225e14b4f2",
   "metadata": {},
   "outputs": [
    {
     "name": "stdout",
     "output_type": "stream",
     "text": [
      "Den mest populære bilmodellen i 2000 var:\n",
      "shape: (1, 2)\n",
      "┌─────────────┬────────┐\n",
      "│ tekn_modell ┆ antall │\n",
      "│ ---         ┆ ---    │\n",
      "│ str         ┆ u32    │\n",
      "╞═════════════╪════════╡\n",
      "│ GOLF        ┆ 3208   │\n",
      "└─────────────┴────────┘\n"
     ]
    }
   ],
   "source": [
    "mest_populaer_modell_2000 = populaere_modeller_2000.sort(by=\"antall\").reverse().head(1)\n",
    "\n",
    "print(\"Den mest populære bilmodellen i 2000 var:\")\n",
    "print(mest_populaer_modell_2000)\n"
   ]
  },
  {
   "cell_type": "code",
   "execution_count": 44,
   "id": "3e93e9c1-be1d-41ea-b8f2-2ccc12fa6a71",
   "metadata": {},
   "outputs": [
    {
     "name": "stdout",
     "output_type": "stream",
     "text": [
      "Måneden med flest førstegangsregistreringer av biler:\n",
      "shape: (1, 2)\n",
      "┌────────┬───────────────────────┐\n",
      "│ maaned ┆ antall_registreringer │\n",
      "│ ---    ┆ ---                   │\n",
      "│ i8     ┆ u32                   │\n",
      "╞════════╪═══════════════════════╡\n",
      "│ 6      ┆ 248455                │\n",
      "└────────┴───────────────────────┘\n"
     ]
    }
   ],
   "source": [
    "registreringer_per_maaned = df.with_columns(\n",
    "    pl.col(\"tekn_reg_f_g_n_date\").dt.month().alias(\"maaned\")\n",
    ").group_by(\"maaned\").agg(\n",
    "    pl.len().alias(\"antall_registreringer\")  # Bruker pl.len() for telling\n",
    ")\n",
    "\n",
    "\n",
    "mest_registreringer = registreringer_per_maaned.sort(\n",
    "    by=\"antall_registreringer\", descending=True  \n",
    ").head(1)\n",
    "\n",
    "print(\"Måneden med flest førstegangsregistreringer av biler:\")\n",
    "print(mest_registreringer)\n"
   ]
  },
  {
   "cell_type": "code",
   "execution_count": 45,
   "id": "b4dda2f6-5c6e-437f-b3cd-96a65aa4d63e",
   "metadata": {},
   "outputs": [
    {
     "name": "stdout",
     "output_type": "stream",
     "text": [
      "De fem mest populære bilmerkene i 2000 var:\n",
      "shape: (5, 2)\n",
      "┌────────────┬────────┐\n",
      "│ tekn_merke ┆ antall │\n",
      "│ ---        ┆ ---    │\n",
      "│ i64        ┆ u32    │\n",
      "╞════════════╪════════╡\n",
      "│ 5750       ┆ 10729  │\n",
      "│ 5480       ┆ 9562   │\n",
      "│ 3900       ┆ 7195   │\n",
      "│ 4350       ┆ 5329   │\n",
      "│ 1230       ┆ 4751   │\n",
      "└────────────┴────────┘\n"
     ]
    }
   ],
   "source": [
    "# Filtrer datasettet for kjøretøy førstegangsregistrert i 2000\n",
    "kjoretoy_2000 = df.filter(pl.col(\"tekn_reg_f_g_n_date\").dt.year() == 2000)\n",
    "\n",
    "mest_populaere_merker_2000 = (\n",
    "    kjoretoy_2000\n",
    "    .group_by(\"tekn_merke\")\n",
    "    .agg(pl.len().alias(\"antall\"))\n",
    "    .sort(by=\"antall\", descending=True)\n",
    "    .head(5)\n",
    ")\n",
    "\n",
    "print(\"De fem mest populære bilmerkene i 2000 var:\")\n",
    "print(mest_populaere_merker_2000)\n"
   ]
  },
  {
   "cell_type": "code",
   "execution_count": 46,
   "id": "c3981001-fb09-448c-b568-18065e5fb24a",
   "metadata": {},
   "outputs": [
    {
     "name": "stdout",
     "output_type": "stream",
     "text": [
      "De fem mest populære bilmerkene i 2000 var:\n",
      "shape: (5, 2)\n",
      "┌─────────────┬────────┐\n",
      "│ tekn_modell ┆ antall │\n",
      "│ ---         ┆ ---    │\n",
      "│ str         ┆ u32    │\n",
      "╞═════════════╪════════╡\n",
      "│ GOLF        ┆ 3208   │\n",
      "│ -           ┆ 2499   │\n",
      "│ PASSAT      ┆ 2342   │\n",
      "│ FOCUS       ┆ 1922   │\n",
      "│ YARIS       ┆ 1863   │\n",
      "└─────────────┴────────┘\n"
     ]
    }
   ],
   "source": [
    "# Filtrer datasettet for kjøretøy førstegangsregistrert i 2000\n",
    "kjoretoy_2000 = df.filter(pl.col(\"tekn_reg_f_g_n_date\").dt.year() == 2000)\n",
    "\n",
    "mest_populaere_merker_2000 = (\n",
    "    kjoretoy_2000\n",
    "    .group_by(\"tekn_modell\")\n",
    "    .agg(pl.len().alias(\"antall\"))\n",
    "    .sort(by=\"antall\", descending=True)\n",
    "    .head(5)\n",
    ")\n",
    "\n",
    "print(\"De fem mest populære bilmerkene i 2000 var:\")\n",
    "print(mest_populaere_merker_2000)"
   ]
  },
  {
   "cell_type": "code",
   "execution_count": null,
   "id": "2354d944-f6e1-42d5-99e8-da28b6c1c48f",
   "metadata": {},
   "outputs": [],
   "source": []
  },
  {
   "cell_type": "code",
   "execution_count": null,
   "id": "eeb81e04-af68-499a-b948-62608a5d94a9",
   "metadata": {},
   "outputs": [],
   "source": []
  },
  {
   "cell_type": "code",
   "execution_count": null,
   "id": "964239d7-235b-4586-bd80-f420fc438f65",
   "metadata": {},
   "outputs": [],
   "source": []
  },
  {
   "cell_type": "code",
   "execution_count": null,
   "id": "da300c68-65e4-4ea9-bc44-94bd0867eaf0",
   "metadata": {},
   "outputs": [],
   "source": []
  },
  {
   "cell_type": "code",
   "execution_count": null,
   "id": "6200f903-9486-41e6-ad07-4e57f73d6706",
   "metadata": {},
   "outputs": [],
   "source": []
  },
  {
   "cell_type": "code",
   "execution_count": null,
   "id": "a6825c81-ab36-48f8-9510-f4ead7c8b2b0",
   "metadata": {},
   "outputs": [],
   "source": []
  }
 ],
 "metadata": {
  "kernelspec": {
   "display_name": "Python 3 (ipykernel)",
   "language": "python",
   "name": "python3"
  },
  "language_info": {
   "codemirror_mode": {
    "name": "ipython",
    "version": 3
   },
   "file_extension": ".py",
   "mimetype": "text/x-python",
   "name": "python",
   "nbconvert_exporter": "python",
   "pygments_lexer": "ipython3",
   "version": "3.12.1"
  }
 },
 "nbformat": 4,
 "nbformat_minor": 5
}
