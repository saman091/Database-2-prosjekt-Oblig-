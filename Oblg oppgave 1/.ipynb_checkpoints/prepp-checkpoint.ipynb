{
 "cells": [
  {
   "cell_type": "code",
   "execution_count": 3,
   "id": "78e0e21f-49ce-4515-9a7c-7938ed602a65",
   "metadata": {},
   "outputs": [],
   "source": [
    "import polars as pl\n",
    "\n",
    "filnavn = 'kjoretoyinfo_fra_2000.parquet'  \n",
    "df = pl.read_parquet(filnavn)"
   ]
  },
  {
   "cell_type": "code",
   "execution_count": 4,
   "id": "bcff6efb-2b05-4dbf-aa54-4eab4ddc50bf",
   "metadata": {},
   "outputs": [
    {
     "ename": "ComputeError",
     "evalue": "conversion from `str` to `date` failed in column 'tekn_neste_pkk' for 2139858 out of 3207748 values: [\"20251013\", \"20260129\", … \"20250331\"]\n\nYou might want to try:\n- setting `strict=False` to set values that cannot be converted to `null`\n- using `str.strptime`, `str.to_date`, or `str.to_datetime` and providing a format string",
     "output_type": "error",
     "traceback": [
      "\u001b[0;31m---------------------------------------------------------------------------\u001b[0m",
      "\u001b[0;31mComputeError\u001b[0m                              Traceback (most recent call last)",
      "Cell \u001b[0;32mIn[4], line 1\u001b[0m\n\u001b[0;32m----> 1\u001b[0m df \u001b[38;5;241m=\u001b[39m \u001b[43mdf\u001b[49m\u001b[38;5;241;43m.\u001b[39;49m\u001b[43mwith_columns\u001b[49m\u001b[43m(\u001b[49m\u001b[43m[\u001b[49m\n\u001b[1;32m      2\u001b[0m \u001b[43m    \u001b[49m\u001b[43mpl\u001b[49m\u001b[38;5;241;43m.\u001b[39;49m\u001b[43mcol\u001b[49m\u001b[43m(\u001b[49m\u001b[38;5;124;43m\"\u001b[39;49m\u001b[38;5;124;43mtekn_reg_f_g_n\u001b[39;49m\u001b[38;5;124;43m\"\u001b[39;49m\u001b[43m)\u001b[49m\u001b[38;5;241;43m.\u001b[39;49m\u001b[43mcast\u001b[49m\u001b[43m(\u001b[49m\u001b[43mpl\u001b[49m\u001b[38;5;241;43m.\u001b[39;49m\u001b[43mDate\u001b[49m\u001b[43m)\u001b[49m\u001b[43m,\u001b[49m\n\u001b[1;32m      3\u001b[0m \u001b[43m    \u001b[49m\u001b[43mpl\u001b[49m\u001b[38;5;241;43m.\u001b[39;49m\u001b[43mcol\u001b[49m\u001b[43m(\u001b[49m\u001b[38;5;124;43m\"\u001b[39;49m\u001b[38;5;124;43mtekn_neste_pkk\u001b[39;49m\u001b[38;5;124;43m\"\u001b[39;49m\u001b[43m)\u001b[49m\u001b[38;5;241;43m.\u001b[39;49m\u001b[43mcast\u001b[49m\u001b[43m(\u001b[49m\u001b[43mpl\u001b[49m\u001b[38;5;241;43m.\u001b[39;49m\u001b[43mDate\u001b[49m\u001b[43m)\u001b[49m\u001b[43m,\u001b[49m\n\u001b[1;32m      4\u001b[0m \u001b[43m    \u001b[49m\u001b[43mpl\u001b[49m\u001b[38;5;241;43m.\u001b[39;49m\u001b[43mcol\u001b[49m\u001b[43m(\u001b[49m\u001b[38;5;124;43m\"\u001b[39;49m\u001b[38;5;124;43mtekn_reg_eier_dato\u001b[39;49m\u001b[38;5;124;43m\"\u001b[39;49m\u001b[43m)\u001b[49m\u001b[38;5;241;43m.\u001b[39;49m\u001b[43mcast\u001b[49m\u001b[43m(\u001b[49m\u001b[43mpl\u001b[49m\u001b[38;5;241;43m.\u001b[39;49m\u001b[43mDate\u001b[49m\u001b[43m)\u001b[49m\n\u001b[1;32m      5\u001b[0m \u001b[43m]\u001b[49m\u001b[43m)\u001b[49m\n",
      "File \u001b[0;32m/Library/Frameworks/Python.framework/Versions/3.12/lib/python3.12/site-packages/polars/dataframe/frame.py:8301\u001b[0m, in \u001b[0;36mDataFrame.with_columns\u001b[0;34m(self, *exprs, **named_exprs)\u001b[0m\n\u001b[1;32m   8155\u001b[0m \u001b[38;5;28;01mdef\u001b[39;00m \u001b[38;5;21mwith_columns\u001b[39m(\n\u001b[1;32m   8156\u001b[0m     \u001b[38;5;28mself\u001b[39m,\n\u001b[1;32m   8157\u001b[0m     \u001b[38;5;241m*\u001b[39mexprs: IntoExpr \u001b[38;5;241m|\u001b[39m Iterable[IntoExpr],\n\u001b[1;32m   8158\u001b[0m     \u001b[38;5;241m*\u001b[39m\u001b[38;5;241m*\u001b[39mnamed_exprs: IntoExpr,\n\u001b[1;32m   8159\u001b[0m ) \u001b[38;5;241m-\u001b[39m\u001b[38;5;241m>\u001b[39m DataFrame:\n\u001b[1;32m   8160\u001b[0m \u001b[38;5;250m    \u001b[39m\u001b[38;5;124;03m\"\"\"\u001b[39;00m\n\u001b[1;32m   8161\u001b[0m \u001b[38;5;124;03m    Add columns to this DataFrame.\u001b[39;00m\n\u001b[1;32m   8162\u001b[0m \n\u001b[0;32m   (...)\u001b[0m\n\u001b[1;32m   8299\u001b[0m \u001b[38;5;124;03m    └─────┴──────┴─────────────┘\u001b[39;00m\n\u001b[1;32m   8300\u001b[0m \u001b[38;5;124;03m    \"\"\"\u001b[39;00m\n\u001b[0;32m-> 8301\u001b[0m     \u001b[38;5;28;01mreturn\u001b[39;00m \u001b[38;5;28;43mself\u001b[39;49m\u001b[38;5;241;43m.\u001b[39;49m\u001b[43mlazy\u001b[49m\u001b[43m(\u001b[49m\u001b[43m)\u001b[49m\u001b[38;5;241;43m.\u001b[39;49m\u001b[43mwith_columns\u001b[49m\u001b[43m(\u001b[49m\u001b[38;5;241;43m*\u001b[39;49m\u001b[43mexprs\u001b[49m\u001b[43m,\u001b[49m\u001b[43m \u001b[49m\u001b[38;5;241;43m*\u001b[39;49m\u001b[38;5;241;43m*\u001b[39;49m\u001b[43mnamed_exprs\u001b[49m\u001b[43m)\u001b[49m\u001b[38;5;241;43m.\u001b[39;49m\u001b[43mcollect\u001b[49m\u001b[43m(\u001b[49m\u001b[43m_eager\u001b[49m\u001b[38;5;241;43m=\u001b[39;49m\u001b[38;5;28;43;01mTrue\u001b[39;49;00m\u001b[43m)\u001b[49m\n",
      "File \u001b[0;32m/Library/Frameworks/Python.framework/Versions/3.12/lib/python3.12/site-packages/polars/lazyframe/frame.py:1939\u001b[0m, in \u001b[0;36mLazyFrame.collect\u001b[0;34m(self, type_coercion, predicate_pushdown, projection_pushdown, simplify_expression, slice_pushdown, comm_subplan_elim, comm_subexpr_elim, no_optimization, streaming, background, _eager)\u001b[0m\n\u001b[1;32m   1936\u001b[0m \u001b[38;5;28;01mif\u001b[39;00m background:\n\u001b[1;32m   1937\u001b[0m     \u001b[38;5;28;01mreturn\u001b[39;00m InProcessQuery(ldf\u001b[38;5;241m.\u001b[39mcollect_concurrently())\n\u001b[0;32m-> 1939\u001b[0m \u001b[38;5;28;01mreturn\u001b[39;00m wrap_df(\u001b[43mldf\u001b[49m\u001b[38;5;241;43m.\u001b[39;49m\u001b[43mcollect\u001b[49m\u001b[43m(\u001b[49m\u001b[43m)\u001b[49m)\n",
      "\u001b[0;31mComputeError\u001b[0m: conversion from `str` to `date` failed in column 'tekn_neste_pkk' for 2139858 out of 3207748 values: [\"20251013\", \"20260129\", … \"20250331\"]\n\nYou might want to try:\n- setting `strict=False` to set values that cannot be converted to `null`\n- using `str.strptime`, `str.to_date`, or `str.to_datetime` and providing a format string"
     ]
    }
   ],
   "source": [
    "df = df.with_columns([\n",
    "    pl.col(\"tekn_reg_f_g_n\").cast(pl.Date),\n",
    "    pl.col(\"tekn_neste_pkk\").cast(pl.Date),\n",
    "    pl.col(\"tekn_reg_eier_dato\").cast(pl.Date)\n",
    "])"
   ]
  },
  {
   "cell_type": "code",
   "execution_count": 5,
   "id": "e103a887-3feb-416b-842f-e7f1abe89fd7",
   "metadata": {},
   "outputs": [],
   "source": [
    "df = df.with_columns([\n",
    "    pl.col(\"tekn_reg_f_g_n\").cast(str).str.strptime(pl.Date, \"%Y%m%d\").alias(\"tekn_reg_f_g_n_date\"),\n",
    "    pl.col(\"tekn_reg_f_g\").cast(str).str.strptime(pl.Date, \"%Y%m%d\").alias(\"tekn_reg_f_g_date\"),\n",
    "    pl.col(\"tekn_reg_eier_dato\").cast(str).str.strptime(pl.Date, \"%Y%m%d\").alias(\"tekn_reg_eier_dato_date\"),\n",
    "    pl.col(\"tekn_siste_pkk\").str.strptime(pl.Date, \"%Y%m%d\", strict=False).alias(\"tekn_siste_pkk_date\"),\n",
    "    pl.col(\"tekn_neste_pkk\").str.strptime(pl.Date, \"%Y%m%d\", strict=False).alias(\"tekn_neste_pkk_date\"),\n",
    "])\n"
   ]
  },
  {
   "cell_type": "code",
   "execution_count": 6,
   "id": "8f0e708e-fa96-47ac-a579-05e1245d0cae",
   "metadata": {},
   "outputs": [
    {
     "name": "stdout",
     "output_type": "stream",
     "text": [
      "['tekn_reg_f_g', 'tekn_reg_f_g_n', 'tekn_reg_eier_dato', 'tekn_merke', 'tekn_modell', 'tekn_farge', 'tekn_drivstoff', 'tekn_siste_pkk', 'tekn_neste_pkk', 'tekn_aksler_drift', 'tekn_sitteplasser_totalt', 'tekn_reg_f_g_n_date', 'tekn_reg_f_g_date', 'tekn_reg_eier_dato_date', 'tekn_siste_pkk_date', 'tekn_neste_pkk_date']\n"
     ]
    }
   ],
   "source": [
    "print(df.columns)\n"
   ]
  },
  {
   "cell_type": "code",
   "execution_count": 7,
   "id": "d5ff0d81-f8e2-4000-9642-790d31a2263f",
   "metadata": {},
   "outputs": [
    {
     "name": "stdout",
     "output_type": "stream",
     "text": [
      "[Int64, Int64, Int64, Int64, String, String, String, String, String, Int64, Int64, Date, Date, Date, Date, Date]\n"
     ]
    }
   ],
   "source": [
    "print(df.dtypes)\n"
   ]
  },
  {
   "cell_type": "code",
   "execution_count": 8,
   "id": "ef06353e-7064-4cc6-9780-3201e22fa58b",
   "metadata": {},
   "outputs": [
    {
     "name": "stdout",
     "output_type": "stream",
     "text": [
      "shape: (5, 16)\n",
      "┌───────────┬───────────┬───────────┬───────────┬───┬───────────┬───────────┬───────────┬──────────┐\n",
      "│ tekn_reg_ ┆ tekn_reg_ ┆ tekn_reg_ ┆ tekn_merk ┆ … ┆ tekn_reg_ ┆ tekn_reg_ ┆ tekn_sist ┆ tekn_nes │\n",
      "│ f_g       ┆ f_g_n     ┆ eier_dato ┆ e         ┆   ┆ f_g_date  ┆ eier_dato ┆ e_pkk_dat ┆ te_pkk_d │\n",
      "│ ---       ┆ ---       ┆ ---       ┆ ---       ┆   ┆ ---       ┆ _date     ┆ e         ┆ ate      │\n",
      "│ i64       ┆ i64       ┆ i64       ┆ i64       ┆   ┆ date      ┆ ---       ┆ ---       ┆ ---      │\n",
      "│           ┆           ┆           ┆           ┆   ┆           ┆ date      ┆ date      ┆ date     │\n",
      "╞═══════════╪═══════════╪═══════════╪═══════════╪═══╪═══════════╪═══════════╪═══════════╪══════════╡\n",
      "│ 20211013  ┆ 20211013  ┆ 20211013  ┆ 3900      ┆ … ┆ 2021-10-1 ┆ 2021-10-1 ┆ null      ┆ 2025-10- │\n",
      "│           ┆           ┆           ┆           ┆   ┆ 3         ┆ 3         ┆           ┆ 13       │\n",
      "│ 20200129  ┆ 20200129  ┆ 20200129  ┆ 5750      ┆ … ┆ 2020-01-2 ┆ 2020-01-2 ┆ 2023-12-0 ┆ 2026-01- │\n",
      "│           ┆           ┆           ┆           ┆   ┆ 9         ┆ 9         ┆ 5         ┆ 29       │\n",
      "│ 20231129  ┆ 20231129  ┆ 20231129  ┆ 2600      ┆ … ┆ 2023-11-2 ┆ 2023-11-2 ┆ null      ┆ 2027-11- │\n",
      "│           ┆           ┆           ┆           ┆   ┆ 9         ┆ 9         ┆           ┆ 29       │\n",
      "│ 20200127  ┆ 20200127  ┆ 20200127  ┆ 5750      ┆ … ┆ 2020-01-2 ┆ 2020-01-2 ┆ null      ┆ 2024-01- │\n",
      "│           ┆           ┆           ┆           ┆   ┆ 7         ┆ 7         ┆           ┆ 27       │\n",
      "│ 20180731  ┆ 20190130  ┆ 20190130  ┆ 2600      ┆ … ┆ 2018-07-3 ┆ 2019-01-3 ┆ 2022-05-0 ┆ 2024-05- │\n",
      "│           ┆           ┆           ┆           ┆   ┆ 1         ┆ 0         ┆ 3         ┆ 03       │\n",
      "└───────────┴───────────┴───────────┴───────────┴───┴───────────┴───────────┴───────────┴──────────┘\n"
     ]
    }
   ],
   "source": [
    "print(df.head())\n"
   ]
  },
  {
   "cell_type": "code",
   "execution_count": 9,
   "id": "fbcf5b59-0846-4a0f-ac83-573d7b7ae173",
   "metadata": {},
   "outputs": [
    {
     "name": "stdout",
     "output_type": "stream",
     "text": [
      "Antall null-verdier i tekn_siste_pkk_date: 1248370\n",
      "Antall null-verdier i tekn_neste_pkk_date: 1105823\n"
     ]
    }
   ],
   "source": [
    "for column in [\"tekn_siste_pkk_date\", \"tekn_neste_pkk_date\"]:\n",
    "    null_count = df.filter(pl.col(column).is_null()).shape[0]\n",
    "    print(f\"Antall null-verdier i {column}: {null_count}\")"
   ]
  },
  {
   "cell_type": "code",
   "execution_count": 10,
   "id": "9afdc6c8-a88a-4639-98a4-3241523fedae",
   "metadata": {},
   "outputs": [],
   "source": [
    "df = df.with_columns(\n",
    "    (pl.col(\"tekn_drivstoff\") == \"Elektrisk\").alias(\"elbil\")\n",
    ")"
   ]
  },
  {
   "cell_type": "code",
   "execution_count": 11,
   "id": "25e2e1ae-d814-42e0-8b8f-4410d691048a",
   "metadata": {},
   "outputs": [],
   "source": [
    "kolonner = [\n",
    "    \"tekn_reg_f_g_n_date\",  # Dato for førstegangsregistrering i Norge\n",
    "    \"tekn_reg_eier_dato_date\",  # Dato bilen ble registrert på nåværende eier\n",
    "    \"tekn_aksler_drift\",  # To aksler er firehjulsdrift\n",
    "    \"tekn_merke\",  # Bilmerket\n",
    "    \"tekn_modell\",  # Bilmodellen\n",
    "    \"tekn_drivstoff\",  # Drivstofftypen\n",
    "    \"tekn_neste_pkk_date\",  # Dato for neste EU-kontroll\n",
    "    \"elbil\"  # Kolonnen som indikerer om bilen er en elbil\n",
    "]"
   ]
  },
  {
   "cell_type": "code",
   "execution_count": 12,
   "id": "e139ed0c-f592-48b1-97c4-6bd8fc53bcfa",
   "metadata": {},
   "outputs": [],
   "source": [
    "df_filtered = df.select(kolonner)\n"
   ]
  },
  {
   "cell_type": "code",
   "execution_count": 13,
   "id": "eb0bab77-8c25-48bb-bbff-bd1fefe3e49e",
   "metadata": {},
   "outputs": [
    {
     "name": "stdout",
     "output_type": "stream",
     "text": [
      "['tekn_reg_f_g_n_date', 'tekn_reg_eier_dato_date', 'tekn_aksler_drift', 'tekn_merke', 'tekn_modell', 'tekn_drivstoff', 'tekn_neste_pkk_date', 'elbil']\n"
     ]
    }
   ],
   "source": [
    "print(df_filtered.columns)\n"
   ]
  },
  {
   "cell_type": "code",
   "execution_count": 14,
   "id": "48563da4-01a5-4fc5-a619-4ebcda946f30",
   "metadata": {},
   "outputs": [
    {
     "name": "stdout",
     "output_type": "stream",
     "text": [
      "[Date, Date, Int64, Int64, String, String, Date, Boolean]\n"
     ]
    }
   ],
   "source": [
    "print(df_filtered.dtypes)\n"
   ]
  },
  {
   "cell_type": "code",
   "execution_count": 15,
   "id": "6f092f3f-9a9f-489d-8851-1b999c5115f8",
   "metadata": {},
   "outputs": [
    {
     "name": "stdout",
     "output_type": "stream",
     "text": [
      "shape: (5, 8)\n",
      "┌────────────┬────────────┬────────────┬────────────┬────────────┬────────────┬────────────┬───────┐\n",
      "│ tekn_reg_f ┆ tekn_reg_e ┆ tekn_aksle ┆ tekn_merke ┆ tekn_model ┆ tekn_drivs ┆ tekn_neste ┆ elbil │\n",
      "│ _g_n_date  ┆ ier_dato_d ┆ r_drift    ┆ ---        ┆ l          ┆ toff       ┆ _pkk_date  ┆ ---   │\n",
      "│ ---        ┆ ate        ┆ ---        ┆ i64        ┆ ---        ┆ ---        ┆ ---        ┆ bool  │\n",
      "│ date       ┆ ---        ┆ i64        ┆            ┆ str        ┆ str        ┆ date       ┆       │\n",
      "│            ┆ date       ┆            ┆            ┆            ┆            ┆            ┆       │\n",
      "╞════════════╪════════════╪════════════╪════════════╪════════════╪════════════╪════════════╪═══════╡\n",
      "│ 2021-10-13 ┆ 2021-10-13 ┆ 2          ┆ 3900       ┆ VITO       ┆ 2          ┆ 2025-10-13 ┆ false │\n",
      "│ 2020-01-29 ┆ 2020-01-29 ┆ 2          ┆ 5750       ┆ CADDY      ┆ 2          ┆ 2026-01-29 ┆ false │\n",
      "│ 2023-11-29 ┆ 2023-11-29 ┆ 1          ┆ 2600       ┆ Mustang    ┆ 5          ┆ 2027-11-29 ┆ false │\n",
      "│            ┆            ┆            ┆            ┆ Mach-E     ┆            ┆            ┆       │\n",
      "│ 2020-01-27 ┆ 2020-01-27 ┆ 2          ┆ 5750       ┆ CADDY      ┆ 2          ┆ 2024-01-27 ┆ false │\n",
      "│ 2019-01-30 ┆ 2019-01-30 ┆ 2          ┆ 2600       ┆ F-150      ┆ 2          ┆ 2024-05-03 ┆ false │\n",
      "│            ┆            ┆            ┆            ┆ Platinum   ┆            ┆            ┆       │\n",
      "└────────────┴────────────┴────────────┴────────────┴────────────┴────────────┴────────────┴───────┘\n"
     ]
    }
   ],
   "source": [
    "print(df_filtered.head())\n"
   ]
  },
  {
   "cell_type": "code",
   "execution_count": 16,
   "id": "f3364fea-d8e0-4fc1-b499-d8945adc9e6d",
   "metadata": {},
   "outputs": [
    {
     "name": "stdout",
     "output_type": "stream",
     "text": [
      "shape: (0, 2)\n",
      "┌────────────────┬───────┐\n",
      "│ tekn_drivstoff ┆ elbil │\n",
      "│ ---            ┆ ---   │\n",
      "│ str            ┆ bool  │\n",
      "╞════════════════╪═══════╡\n",
      "└────────────────┴───────┘\n"
     ]
    }
   ],
   "source": [
    "print(df_filtered.filter(pl.col(\"elbil\")).select([\"tekn_drivstoff\", \"elbil\"]).head())\n"
   ]
  },
  {
   "cell_type": "code",
   "execution_count": 17,
   "id": "b849ac06-6b06-46be-a801-3d404eeae543",
   "metadata": {},
   "outputs": [
    {
     "name": "stdout",
     "output_type": "stream",
     "text": [
      "shape: (39,)\n",
      "Series: 'tekn_drivstoff' [str]\n",
      "[\n",
      "\t\"9\"\n",
      "\t\"18\"\n",
      "\t\"2,10\"\n",
      "\t\"1,5,5\"\n",
      "\t\"15\"\n",
      "\t…\n",
      "\t\"2,5,5,5\"\n",
      "\t\"10,2\"\n",
      "\t\"1,18,19\"\n",
      "\t\"13\"\n",
      "\t\"11\"\n",
      "]\n"
     ]
    }
   ],
   "source": [
    "print(df[\"tekn_drivstoff\"].unique())\n"
   ]
  },
  {
   "cell_type": "code",
   "execution_count": 18,
   "id": "cf4eaec7-7074-45f5-90db-da1021b59a51",
   "metadata": {},
   "outputs": [
    {
     "name": "stdout",
     "output_type": "stream",
     "text": [
      "shape: (39,)\n",
      "Series: 'tekn_drivstoff' [str]\n",
      "[\n",
      "\t\"6,5\"\n",
      "\t\"1,16\"\n",
      "\t\"1,15\"\n",
      "\t\"13\"\n",
      "\t\"18\"\n",
      "\t…\n",
      "\t\"2,10\"\n",
      "\t\"3\"\n",
      "\t\"5,5,5\"\n",
      "\t\"4,2\"\n",
      "\t\"5,5\"\n",
      "]\n"
     ]
    }
   ],
   "source": [
    "print(df[\"tekn_drivstoff\"].unique())\n"
   ]
  },
  {
   "cell_type": "code",
   "execution_count": 19,
   "id": "cc48e503-66ec-4c5e-b2a5-322b395e6755",
   "metadata": {},
   "outputs": [
    {
     "name": "stdout",
     "output_type": "stream",
     "text": [
      "shape: (5, 2)\n",
      "┌────────────────┬───────┐\n",
      "│ tekn_drivstoff ┆ elbil │\n",
      "│ ---            ┆ ---   │\n",
      "│ str            ┆ bool  │\n",
      "╞════════════════╪═══════╡\n",
      "│ 2              ┆ false │\n",
      "│ 2              ┆ false │\n",
      "│ 5              ┆ false │\n",
      "│ 2              ┆ false │\n",
      "│ 2              ┆ false │\n",
      "└────────────────┴───────┘\n"
     ]
    }
   ],
   "source": [
    "print(df.select([\"tekn_drivstoff\", \"elbil\"]).head())\n"
   ]
  },
  {
   "cell_type": "code",
   "execution_count": 20,
   "id": "7e758793-e774-4396-a0f5-b8ad91795fb9",
   "metadata": {},
   "outputs": [
    {
     "name": "stdout",
     "output_type": "stream",
     "text": [
      "0\n"
     ]
    }
   ],
   "source": [
    "print(df.filter(pl.col(\"elbil\")).shape[0])\n"
   ]
  },
  {
   "cell_type": "code",
   "execution_count": 21,
   "id": "3734ac72-e3b6-4d28-a5c2-27902392ae52",
   "metadata": {},
   "outputs": [
    {
     "name": "stdout",
     "output_type": "stream",
     "text": [
      "shape: (39, 2)\n",
      "┌───────────────────────────────────┬────────┐\n",
      "│ tekn_drivstoff                    ┆ count  │\n",
      "│ ---                               ┆ ---    │\n",
      "│ str                               ┆ u32    │\n",
      "╞═══════════════════════════════════╪════════╡\n",
      "│ null                              ┆ 0      │\n",
      "│ 1                                 ┆ 937254 │\n",
      "│ 1,1                               ┆ 3      │\n",
      "│ 1,12                              ┆ 13     │\n",
      "│ 1,13                              ┆ 9      │\n",
      "│ …                                 ┆ …      │\n",
      "│ 5,5,5                             ┆ 1358   │\n",
      "│ 5,5\\\";;80;84;;;;;;;;;;;890;980;;… ┆ 1      │\n",
      "│ 6                                 ┆ 175    │\n",
      "│ 6,5                               ┆ 1      │\n",
      "│ 9                                 ┆ 28     │\n",
      "└───────────────────────────────────┴────────┘\n"
     ]
    },
    {
     "name": "stderr",
     "output_type": "stream",
     "text": [
      "/var/folders/r3/c464yxgd5f96cyq5r3t1djg40000gn/T/ipykernel_19527/3489909454.py:2: DeprecationWarning: `groupby` is deprecated. It has been renamed to `group_by`.\n",
      "  df_grouped = df.groupby(\"tekn_drivstoff\").agg(pl.count(\"tekn_drivstoff\").alias(\"count\")).sort(\"tekn_drivstoff\")\n"
     ]
    }
   ],
   "source": [
    "# Grupperer 'tekn_drivstoff'-kolonnen og teller antall forekomster av hver unik verdi\n",
    "df_grouped = df.groupby(\"tekn_drivstoff\").agg(pl.count(\"tekn_drivstoff\").alias(\"count\")).sort(\"tekn_drivstoff\")\n",
    "\n",
    "# Skriver ut resultatet\n",
    "print(df_grouped)\n"
   ]
  },
  {
   "cell_type": "code",
   "execution_count": 22,
   "id": "2563cba2-5b61-4e6e-a2fd-5910b7dd84ac",
   "metadata": {},
   "outputs": [],
   "source": [
    "# Oppdater \"elbil\"-kolonnen basert på \"9\" i tekn_drivstoff\n",
    "df = df.with_columns(\n",
    "    (pl.col(\"tekn_drivstoff\") == \"9\").alias(\"elbil\")\n",
    ")\n"
   ]
  },
  {
   "cell_type": "code",
   "execution_count": 23,
   "id": "bbb1d572-aae1-43db-b608-c2ccb89a21be",
   "metadata": {},
   "outputs": [
    {
     "name": "stdout",
     "output_type": "stream",
     "text": [
      "28\n"
     ]
    }
   ],
   "source": [
    "# Bekreft antall identifiserte elektriske biler\n",
    "print(df.filter(pl.col(\"elbil\")).shape[0])"
   ]
  },
  {
   "cell_type": "code",
   "execution_count": 24,
   "id": "9fb70984-061b-4285-a49b-6c2bff34890c",
   "metadata": {},
   "outputs": [],
   "source": [
    "# Moderne måte å gruppere og telle på\n",
    "df_grouped = df.group_by(\"tekn_drivstoff\").agg(pl.col(\"tekn_drivstoff\").count().alias(\"count\")).sort(\"tekn_drivstoff\")\n"
   ]
  },
  {
   "cell_type": "code",
   "execution_count": 28,
   "id": "cab2bbd5-7bfd-4468-965f-612b8b77706a",
   "metadata": {},
   "outputs": [
    {
     "name": "stdout",
     "output_type": "stream",
     "text": [
      "Unike drivstoffverdier for elbiler:\n",
      "shape: (1, 1)\n",
      "┌────────────────┐\n",
      "│ tekn_drivstoff │\n",
      "│ ---            │\n",
      "│ str            │\n",
      "╞════════════════╡\n",
      "│ 9              │\n",
      "└────────────────┘\n"
     ]
    }
   ],
   "source": [
    "df_elbiler = df.filter(pl.col(\"elbil\"))\n",
    "unique_drivstoff = df_elbiler.select(pl.col(\"tekn_drivstoff\")).unique()\n",
    "print(\"Unike drivstoffverdier for elbiler:\")\n",
    "print(unique_drivstoff)"
   ]
  },
  {
   "cell_type": "code",
   "execution_count": 29,
   "id": "292a181e-8a16-4322-bcb6-5607286c670f",
   "metadata": {},
   "outputs": [],
   "source": [
    "df_filtered.write_parquet(\"kjoretoyinfo_preppet.parquet\")\n"
   ]
  },
  {
   "cell_type": "code",
   "execution_count": null,
   "id": "d01b8f6c-fa75-4170-bb6a-1ac2432d56b0",
   "metadata": {},
   "outputs": [],
   "source": []
  }
 ],
 "metadata": {
  "kernelspec": {
   "display_name": "Python 3 (ipykernel)",
   "language": "python",
   "name": "python3"
  },
  "language_info": {
   "codemirror_mode": {
    "name": "ipython",
    "version": 3
   },
   "file_extension": ".py",
   "mimetype": "text/x-python",
   "name": "python",
   "nbconvert_exporter": "python",
   "pygments_lexer": "ipython3",
   "version": "3.12.1"
  }
 },
 "nbformat": 4,
 "nbformat_minor": 5
}
