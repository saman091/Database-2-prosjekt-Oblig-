{
 "cells": [
  {
   "cell_type": "code",
   "execution_count": 1,
   "id": "d50fe6f9-0e58-4a03-8d1d-fb208b73ef67",
   "metadata": {},
   "outputs": [],
   "source": [
    "import polars as pl\n",
    "\n",
    "df = pl.read_parquet(\"kjoretoyinfo_preppet.parquet\")"
   ]
  },
  {
   "cell_type": "code",
   "execution_count": 2,
   "id": "918704c0-3943-45ee-a542-7c9b06df0c9a",
   "metadata": {},
   "outputs": [],
   "source": [
    "df = df.with_columns([\n",
    "    pl.col(\"tekn_reg_f_g_n\").cast(str).str.strptime(pl.Date, \"%Y%m%d\").alias(\"tekn_reg_f_g_n_date\")\n",
    "])\n"
   ]
  },
  {
   "cell_type": "code",
   "execution_count": 25,
   "id": "4f231b71-7f42-42de-9176-65ca2715d1f1",
   "metadata": {},
   "outputs": [
    {
     "name": "stdout",
     "output_type": "stream",
     "text": [
      "Antall elbiler førstegangsregistrert i 2000: shape: (1, 10)\n",
      "┌────────────┬────────────┬────────────┬───────────┬───┬───────────┬───────────┬───────┬───────────┐\n",
      "│ tekn_reg_f ┆ tekn_reg_e ┆ tekn_aksle ┆ tekn_merk ┆ … ┆ tekn_nest ┆ tekn_kjtg ┆ elbil ┆ tekn_reg_ │\n",
      "│ _g_n       ┆ ier_dato   ┆ r_drift    ┆ e         ┆   ┆ e_pkk     ┆ rp        ┆ ---   ┆ f_g_n_dat │\n",
      "│ ---        ┆ ---        ┆ ---        ┆ ---       ┆   ┆ ---       ┆ ---       ┆ u32   ┆ e         │\n",
      "│ u32        ┆ u32        ┆ u32        ┆ u32       ┆   ┆ u32       ┆ u32       ┆       ┆ ---       │\n",
      "│            ┆            ┆            ┆           ┆   ┆           ┆           ┆       ┆ u32       │\n",
      "╞════════════╪════════════╪════════════╪═══════════╪═══╪═══════════╪═══════════╪═══════╪═══════════╡\n",
      "│ 126        ┆ 126        ┆ 126        ┆ 126       ┆ … ┆ 50        ┆ 126       ┆ 126   ┆ 126       │\n",
      "└────────────┴────────────┴────────────┴───────────┴───┴───────────┴───────────┴───────┴───────────┘\n"
     ]
    }
   ],
   "source": [
    "#Oppgave 7\n",
    "elbiler_2000 = df.filter(\n",
    "    (pl.col(\"tekn_drivstoff\") == \"5\") & \n",
    "    (pl.col(\"tekn_reg_f_g_n_date\").dt.year() == 2000)\n",
    ").count()\n",
    "\n",
    "print(f\"Antall elbiler førstegangsregistrert i 2000: {elbiler_2000}\")\n"
   ]
  },
  {
   "cell_type": "code",
   "execution_count": 26,
   "id": "cc8cd825-1b79-4157-ac8b-a9f5afc409f5",
   "metadata": {},
   "outputs": [
    {
     "name": "stdout",
     "output_type": "stream",
     "text": [
      "Antall elbiler førstegangsregistrert i 2000: 126\n"
     ]
    }
   ],
   "source": [
    "#Oppgave 7\n",
    "elbiler_2000 = df.filter(\n",
    "    (pl.col(\"tekn_drivstoff\") == \"5\") &\n",
    "    (pl.col(\"tekn_reg_f_g_n_date\").dt.year() == 2000)\n",
    ").height\n",
    "\n",
    "print(f\"Antall elbiler førstegangsregistrert i 2000: {elbiler_2000}\")\n",
    "\n"
   ]
  },
  {
   "cell_type": "code",
   "execution_count": 28,
   "id": "fc62e0e8-7a46-4ce1-bb99-c1225e14b4f2",
   "metadata": {},
   "outputs": [
    {
     "name": "stdout",
     "output_type": "stream",
     "text": [
      "De fem mest populære bilmerkene i 2000 var:\n",
      "shape: (5, 2)\n",
      "┌────────────┬────────┐\n",
      "│ tekn_merke ┆ antall │\n",
      "│ ---        ┆ ---    │\n",
      "│ i64        ┆ u32    │\n",
      "╞════════════╪════════╡\n",
      "│ 5750       ┆ 10729  │\n",
      "│ 5480       ┆ 9562   │\n",
      "│ 3900       ┆ 7195   │\n",
      "│ 4350       ┆ 5329   │\n",
      "│ 1230       ┆ 4751   │\n",
      "└────────────┴────────┘\n"
     ]
    }
   ],
   "source": [
    "#Oppgave 9\n",
    "# Filtrer datasettet for kjøretøy førstegangsregistrert i 2000\n",
    "kjoretoy_2000 = df.filter(pl.col(\"tekn_reg_f_g_n_date\").dt.year() == 2000)\n",
    "\n",
    "# Grupper etter 'tekn_merke', tell, og sorter for å finne de mest populære merkene\n",
    "mest_populaere_merker_2000 = (\n",
    "    kjoretoy_2000\n",
    "    .group_by(\"tekn_merke\")\n",
    "    .agg(pl.len().alias(\"antall\"))\n",
    "    .sort(by=\"antall\", descending=True)\n",
    "    .head(5)\n",
    ")\n",
    "\n",
    "print(\"De fem mest populære bilmerkene i 2000 var:\")\n",
    "print(mest_populaere_merker_2000)\n"
   ]
  },
  {
   "cell_type": "code",
   "execution_count": 29,
   "id": "3e93e9c1-be1d-41ea-b8f2-2ccc12fa6a71",
   "metadata": {},
   "outputs": [
    {
     "name": "stdout",
     "output_type": "stream",
     "text": [
      "Måneden med flest førstegangsregistreringer av biler:\n",
      "shape: (1, 2)\n",
      "┌────────┬───────────────────────┐\n",
      "│ maaned ┆ antall_registreringer │\n",
      "│ ---    ┆ ---                   │\n",
      "│ i8     ┆ u32                   │\n",
      "╞════════╪═══════════════════════╡\n",
      "│ 6      ┆ 248455                │\n",
      "└────────┴───────────────────────┘\n"
     ]
    }
   ],
   "source": [
    "#Oppgave 12\n",
    "registreringer_per_maaned = df.with_columns(\n",
    "    pl.col(\"tekn_reg_f_g_n_date\").dt.month().alias(\"maaned\")\n",
    ").group_by(\"maaned\").agg(\n",
    "    pl.len().alias(\"antall_registreringer\")  # Bruker pl.len() for telling\n",
    ")\n",
    "\n",
    "\n",
    "mest_registreringer = registreringer_per_maaned.sort(\n",
    "    by=\"antall_registreringer\", descending=True  \n",
    ").head(1)\n",
    "\n",
    "print(\"Måneden med flest førstegangsregistreringer av biler:\")\n",
    "print(mest_registreringer)\n"
   ]
  },
  {
   "cell_type": "code",
   "execution_count": 30,
   "id": "b4dda2f6-5c6e-437f-b3cd-96a65aa4d63e",
   "metadata": {},
   "outputs": [
    {
     "name": "stdout",
     "output_type": "stream",
     "text": [
      "De fem mest populære bilmerkene i 2000 var:\n",
      "shape: (5, 2)\n",
      "┌────────────┬────────┐\n",
      "│ tekn_merke ┆ antall │\n",
      "│ ---        ┆ ---    │\n",
      "│ i64        ┆ u32    │\n",
      "╞════════════╪════════╡\n",
      "│ 5750       ┆ 10729  │\n",
      "│ 5480       ┆ 9562   │\n",
      "│ 3900       ┆ 7195   │\n",
      "│ 4350       ┆ 5329   │\n",
      "│ 1230       ┆ 4751   │\n",
      "└────────────┴────────┘\n"
     ]
    }
   ],
   "source": [
    "# Oppgave 15\n",
    "kjoretoy_2000 = df.filter(pl.col(\"tekn_reg_f_g_n_date\").dt.year() == 2000)\n",
    "\n",
    "mest_populaere_merker_2000 = (\n",
    "    kjoretoy_2000\n",
    "    .group_by(\"tekn_merke\")\n",
    "    .agg(pl.len().alias(\"antall\"))\n",
    "    .sort(by=\"antall\", descending=True)\n",
    "    .head(5)\n",
    ")\n",
    "\n",
    "print(\"De fem mest populære bilmerkene i 2000 var:\")\n",
    "print(mest_populaere_merker_2000)\n"
   ]
  },
  {
   "cell_type": "code",
   "execution_count": 31,
   "id": "c3981001-fb09-448c-b568-18065e5fb24a",
   "metadata": {},
   "outputs": [
    {
     "name": "stdout",
     "output_type": "stream",
     "text": [
      "De fem mest populære bilmerkene i 2000 var:\n",
      "shape: (5, 2)\n",
      "┌─────────────┬────────┐\n",
      "│ tekn_modell ┆ antall │\n",
      "│ ---         ┆ ---    │\n",
      "│ str         ┆ u32    │\n",
      "╞═════════════╪════════╡\n",
      "│ GOLF        ┆ 3208   │\n",
      "│ -           ┆ 2499   │\n",
      "│ PASSAT      ┆ 2342   │\n",
      "│ FOCUS       ┆ 1922   │\n",
      "│ YARIS       ┆ 1863   │\n",
      "└─────────────┴────────┘\n"
     ]
    }
   ],
   "source": [
    "# Oppgave 15\n",
    "kjoretoy_2000 = df.filter(pl.col(\"tekn_reg_f_g_n_date\").dt.year() == 2000)\n",
    "\n",
    "mest_populaere_merker_2000 = (\n",
    "    kjoretoy_2000\n",
    "    .group_by(\"tekn_modell\")\n",
    "    .agg(pl.len().alias(\"antall\"))\n",
    "    .sort(by=\"antall\", descending=True)\n",
    "    .head(5)\n",
    ")\n",
    "\n",
    "print(\"De fem mest populære bilmerkene i 2000 var:\")\n",
    "print(mest_populaere_merker_2000)"
   ]
  },
  {
   "cell_type": "code",
   "execution_count": null,
   "id": "2354d944-f6e1-42d5-99e8-da28b6c1c48f",
   "metadata": {},
   "outputs": [],
   "source": []
  },
  {
   "cell_type": "code",
   "execution_count": null,
   "id": "a6825c81-ab36-48f8-9510-f4ead7c8b2b0",
   "metadata": {},
   "outputs": [],
   "source": []
  }
 ],
 "metadata": {
  "kernelspec": {
   "display_name": "Python 3 (ipykernel)",
   "language": "python",
   "name": "python3"
  },
  "language_info": {
   "codemirror_mode": {
    "name": "ipython",
    "version": 3
   },
   "file_extension": ".py",
   "mimetype": "text/x-python",
   "name": "python",
   "nbconvert_exporter": "python",
   "pygments_lexer": "ipython3",
   "version": "3.12.1"
  }
 },
 "nbformat": 4,
 "nbformat_minor": 5
}
