{
 "cells": [
  {
   "cell_type": "code",
   "execution_count": 1,
   "id": "096de8df-0e47-4b37-ad8f-98f149bffaf6",
   "metadata": {},
   "outputs": [],
   "source": [
    "import polars as pl\n",
    "\n",
    "df = pl.read_parquet(\"kjoretoyinfo_fra_2000-2.parquet\")"
   ]
  },
  {
   "cell_type": "code",
   "execution_count": 2,
   "id": "c740db6c-607e-49d0-b552-b12717d81f89",
   "metadata": {},
   "outputs": [],
   "source": [
    "df = df.with_columns([\n",
    "    pl.col(\"tekn_reg_f_g_n\").cast(str).str.strptime(pl.Date, \"%Y%m%d\").alias(\"tekn_reg_f_g_n_date\"),\n",
    "    pl.col(\"tekn_reg_f_g\").cast(str).str.strptime(pl.Date, \"%Y%m%d\").alias(\"tekn_reg_f_g_date\"),\n",
    "    pl.col(\"tekn_reg_eier_dato\").cast(str).str.strptime(pl.Date, \"%Y%m%d\").alias(\"tekn_reg_eier_dato_date\"),\n",
    "    pl.col(\"tekn_siste_pkk\").str.strptime(pl.Date, \"%Y%m%d\", strict=False).alias(\"tekn_siste_pkk_date\"),\n",
    "    pl.col(\"tekn_neste_pkk\").str.strptime(pl.Date, \"%Y%m%d\", strict=False).alias(\"tekn_neste_pkk_date\"),\n",
    "])\n"
   ]
  },
  {
   "cell_type": "code",
   "execution_count": 3,
   "id": "07594567-7250-4780-8e03-57d6953f2e77",
   "metadata": {},
   "outputs": [],
   "source": [
    "df = df.with_columns(\n",
    "    (pl.col(\"tekn_drivstoff\") == \"Elektrisk\").alias(\"elbil\")\n",
    ")"
   ]
  },
  {
   "cell_type": "code",
   "execution_count": 4,
   "id": "8a0a8c9a-730f-4cb5-ae89-1ac88bc22779",
   "metadata": {},
   "outputs": [
    {
     "name": "stdout",
     "output_type": "stream",
     "text": [
      "shape: (5, 18)\n",
      "┌────────────┬────────────┬────────────┬───────────┬───┬───────────┬───────────┬───────────┬───────┐\n",
      "│ tekn_reg_f ┆ tekn_reg_f ┆ tekn_reg_e ┆ tekn_merk ┆ … ┆ tekn_reg_ ┆ tekn_sist ┆ tekn_nest ┆ elbil │\n",
      "│ _g         ┆ _g_n       ┆ ier_dato   ┆ e         ┆   ┆ eier_dato ┆ e_pkk_dat ┆ e_pkk_dat ┆ ---   │\n",
      "│ ---        ┆ ---        ┆ ---        ┆ ---       ┆   ┆ _date     ┆ e         ┆ e         ┆ bool  │\n",
      "│ i64        ┆ i64        ┆ i64        ┆ i64       ┆   ┆ ---       ┆ ---       ┆ ---       ┆       │\n",
      "│            ┆            ┆            ┆           ┆   ┆ date      ┆ date      ┆ date      ┆       │\n",
      "╞════════════╪════════════╪════════════╪═══════════╪═══╪═══════════╪═══════════╪═══════════╪═══════╡\n",
      "│ 20211013   ┆ 20211013   ┆ 20211013   ┆ 3900      ┆ … ┆ 2021-10-1 ┆ null      ┆ 2025-10-1 ┆ false │\n",
      "│            ┆            ┆            ┆           ┆   ┆ 3         ┆           ┆ 3         ┆       │\n",
      "│ 20200129   ┆ 20200129   ┆ 20200129   ┆ 5750      ┆ … ┆ 2020-01-2 ┆ 2023-12-0 ┆ 2026-01-2 ┆ false │\n",
      "│            ┆            ┆            ┆           ┆   ┆ 9         ┆ 5         ┆ 9         ┆       │\n",
      "│ 20231129   ┆ 20231129   ┆ 20231129   ┆ 2600      ┆ … ┆ 2023-11-2 ┆ null      ┆ 2027-11-2 ┆ false │\n",
      "│            ┆            ┆            ┆           ┆   ┆ 9         ┆           ┆ 9         ┆       │\n",
      "│ 20200127   ┆ 20200127   ┆ 20200127   ┆ 5750      ┆ … ┆ 2020-01-2 ┆ null      ┆ 2024-01-2 ┆ false │\n",
      "│            ┆            ┆            ┆           ┆   ┆ 7         ┆           ┆ 7         ┆       │\n",
      "│ 20180731   ┆ 20190130   ┆ 20190130   ┆ 2600      ┆ … ┆ 2019-01-3 ┆ 2022-05-0 ┆ 2024-05-0 ┆ false │\n",
      "│            ┆            ┆            ┆           ┆   ┆ 0         ┆ 3         ┆ 3         ┆       │\n",
      "└────────────┴────────────┴────────────┴───────────┴───┴───────────┴───────────┴───────────┴───────┘\n"
     ]
    }
   ],
   "source": [
    "print(df.head())\n"
   ]
  },
  {
   "cell_type": "code",
   "execution_count": 5,
   "id": "ab7adb45-a1ef-4a46-b975-9a4bc9d3a742",
   "metadata": {},
   "outputs": [
    {
     "name": "stdout",
     "output_type": "stream",
     "text": [
      "shape: (1, 1)\n",
      "┌───────┐\n",
      "│ elbil │\n",
      "│ ---   │\n",
      "│ bool  │\n",
      "╞═══════╡\n",
      "│ false │\n",
      "└───────┘\n"
     ]
    }
   ],
   "source": [
    "print(df.select(pl.col(\"elbil\")).unique())\n"
   ]
  },
  {
   "cell_type": "code",
   "execution_count": 6,
   "id": "ef2f8f49-fa29-4ed4-ab7a-ba6d763cdda8",
   "metadata": {},
   "outputs": [
    {
     "name": "stdout",
     "output_type": "stream",
     "text": [
      "Antall elektriske kjøretøy: 0\n",
      "Antall ikke-elektriske kjøretøy: 2692915\n"
     ]
    }
   ],
   "source": [
    "elbil_count = df.filter(pl.col(\"elbil\") == True).shape[0]\n",
    "ikke_elbil_count = df.filter(pl.col(\"elbil\") == False).shape[0]\n",
    "\n",
    "print(f\"Antall elektriske kjøretøy: {elbil_count}\")\n",
    "print(f\"Antall ikke-elektriske kjøretøy: {ikke_elbil_count}\")\n"
   ]
  },
  {
   "cell_type": "code",
   "execution_count": 7,
   "id": "ae4ad602-acef-43b4-bc56-468c12310d41",
   "metadata": {},
   "outputs": [],
   "source": [
    "df_selected = df.select([\n",
    "    \"tekn_reg_f_g_n\",\n",
    "    \"tekn_reg_eier_dato\",\n",
    "    \"tekn_aksler_drift\",\n",
    "    \"tekn_merke\",\n",
    "    \"tekn_modell\",\n",
    "    \"tekn_drivstoff\",  \n",
    "    \"tekn_neste_pkk\",\n",
    "    \"tekn_kjtgrp\",\n",
    "    \"elbil\"\n",
    "])\n"
   ]
  },
  {
   "cell_type": "code",
   "execution_count": 8,
   "id": "3fd5a252-7913-40e7-a118-839b5ba2ff80",
   "metadata": {},
   "outputs": [
    {
     "name": "stdout",
     "output_type": "stream",
     "text": [
      "['tekn_reg_f_g', 'tekn_reg_f_g_n', 'tekn_reg_eier_dato', 'tekn_merke', 'tekn_kjtgrp', 'tekn_modell', 'tekn_farge', 'tekn_drivstoff', 'tekn_siste_pkk', 'tekn_neste_pkk', 'tekn_aksler_drift', 'tekn_sitteplasser_totalt', 'tekn_reg_f_g_n_date', 'tekn_reg_f_g_date', 'tekn_reg_eier_dato_date', 'tekn_siste_pkk_date', 'tekn_neste_pkk_date', 'elbil']\n"
     ]
    }
   ],
   "source": [
    "# Liste opp alle kolonnenavn\n",
    "print(df.columns)\n"
   ]
  },
  {
   "cell_type": "code",
   "execution_count": 9,
   "id": "8ff64d6d-e9dd-40fd-8674-9c609fc4fcba",
   "metadata": {},
   "outputs": [],
   "source": [
    "df_selected = df.select([\n",
    "    \"tekn_reg_f_g_n\",\n",
    "    \"tekn_reg_eier_dato\",\n",
    "    \"tekn_aksler_drift\",\n",
    "    \"tekn_merke\",\n",
    "    \"tekn_modell\",\n",
    "    \"tekn_drivstoff\",\n",
    "    \"tekn_neste_pkk\",\n",
    "    \"tekn_kjtgrp\",\n",
    "    \"elbil\"\n",
    "])\n"
   ]
  },
  {
   "cell_type": "code",
   "execution_count": 10,
   "id": "f6eda415-5bc5-4345-9197-dda7d726d899",
   "metadata": {},
   "outputs": [
    {
     "name": "stdout",
     "output_type": "stream",
     "text": [
      "['tekn_reg_f_g_n', 'tekn_reg_eier_dato', 'tekn_aksler_drift', 'tekn_merke', 'tekn_modell', 'tekn_drivstoff', 'tekn_neste_pkk', 'tekn_kjtgrp', 'elbil']\n"
     ]
    }
   ],
   "source": [
    "print(df_selected.columns)\n"
   ]
  },
  {
   "cell_type": "code",
   "execution_count": 11,
   "id": "df3965ee-b62a-427e-a630-a15f8deba6f9",
   "metadata": {},
   "outputs": [],
   "source": [
    "df_selected.write_parquet(\"kjoretoyinfo_preppet.parquet\")"
   ]
  },
  {
   "cell_type": "code",
   "execution_count": null,
   "id": "9f8d0da3-1c30-4936-9ba9-f51a59b68ed0",
   "metadata": {},
   "outputs": [],
   "source": []
  }
 ],
 "metadata": {
  "kernelspec": {
   "display_name": "Python 3 (ipykernel)",
   "language": "python",
   "name": "python3"
  },
  "language_info": {
   "codemirror_mode": {
    "name": "ipython",
    "version": 3
   },
   "file_extension": ".py",
   "mimetype": "text/x-python",
   "name": "python",
   "nbconvert_exporter": "python",
   "pygments_lexer": "ipython3",
   "version": "3.12.1"
  }
 },
 "nbformat": 4,
 "nbformat_minor": 5
}
